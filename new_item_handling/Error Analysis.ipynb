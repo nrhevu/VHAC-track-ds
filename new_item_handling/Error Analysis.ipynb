{
 "cells": [
  {
   "cell_type": "code",
   "execution_count": 2,
   "id": "e413f039-4f6d-4f48-9695-625bde09cfe1",
   "metadata": {},
   "outputs": [],
   "source": [
    "import pandas as pd"
   ]
  },
  {
   "cell_type": "code",
   "execution_count": 4,
   "id": "a8ecf2e7-3ef7-49bd-a503-163d4b4fbc12",
   "metadata": {},
   "outputs": [],
   "source": [
    "recvae = pd.read_csv(\"runs/private-test-attempt-1/RecVAE_0581.csv\", header=None)\n",
    "als = pd.read_csv(\"runs/private-test-attempt-1/predict_ALS.csv\", header=None)\n",
    "lightgcn = pd.read_csv(\"runs/private-test-attempt-1/LightGCN_predict.csv\", header=None)\n",
    "sar = pd.read_csv(\"runs/private-test-attempt-1/SAR_std_data.csv\", header=None)\n",
    "xsimgcl = pd.read_csv(\"submission/predict_ensemble_XSim_multiview.csv\", header=None)\n",
    "cl4rec = pd.read_csv(\"runs/private-test-attempt-1/DirectAU_predict.csv\", header=None)"
   ]
  },
  {
   "cell_type": "code",
   "execution_count": 8,
   "id": "0aed571e-2f0b-40a5-9b60-3b615466f147",
   "metadata": {},
   "outputs": [
    {
     "name": "stdout",
     "output_type": "stream",
     "text": [
      "Tổng số người dùng: 4225\n",
      "Số người dùng có độ đồng thuận cao: 813\n",
      "Số người dùng có độ đồng thuận thấp: 790\n",
      "\n",
      "Ví dụ về người dùng có độ đồng thuận cao:\n",
      "User 0a9Fr9I8Gr: 0.550\n",
      "User gvOsLAX6V1: 0.550\n",
      "User nWK4jN2q4O: 0.550\n",
      "User AerQWfLe0S: 0.520\n",
      "User rdJ2LyMYp4: 0.650\n",
      "\n",
      "Ví dụ về người dùng có độ đồng thuận thấp:\n",
      "User Uw0zXc8Sr8: 0.020\n",
      "User NV1iw3vjY7: 0.040\n",
      "User hGFPdBbiOm: 0.150\n",
      "User PJ69bBhw4R: 0.140\n",
      "User PXm9NYa9L1: 0.140\n"
     ]
    }
   ],
   "source": [
    "import pandas as pd\n",
    "import numpy as np\n",
    "from collections import defaultdict\n",
    "\n",
    "def load_and_process_recommendations(file_paths):\n",
    "    \"\"\"\n",
    "    Đọc và xử lý các file khuyến nghị từ nhiều mô hình\n",
    "    \"\"\"\n",
    "    model_predictions = {}\n",
    "    for model_name, file_path in file_paths.items():\n",
    "        df = pd.read_csv(file_path, header=None)[[0,1,2,3]]\n",
    "        # Chuyển đổi DataFrame thành dictionary với key là user_id và value là list các khuyến nghị\n",
    "        predictions = {str(row[0]): list(row[1:]) for _, row in df.iterrows()}\n",
    "        model_predictions[model_name] = predictions\n",
    "    return model_predictions\n",
    "\n",
    "def calculate_jaccard_similarity(set1, set2):\n",
    "    \"\"\"\n",
    "    Tính toán độ tương đồng Jaccard giữa hai tập hợp\n",
    "    \"\"\"\n",
    "    intersection = len(set(set1) & set(set2))\n",
    "    union = len(set(set1) | set(set2))\n",
    "    return intersection / union if union != 0 else 0\n",
    "\n",
    "def analyze_model_agreement(model_predictions):\n",
    "    \"\"\"\n",
    "    Phân tích độ đồng thuận giữa các mô hình\n",
    "    \"\"\"\n",
    "    user_similarities = defaultdict(list)\n",
    "    model_names = list(model_predictions.keys())\n",
    "    \n",
    "    # Với mỗi người dùng, tính toán độ tương đồng giữa các cặp mô hình\n",
    "    for user_id in model_predictions[model_names[0]].keys():\n",
    "        similarities = []\n",
    "        # So sánh từng cặp mô hình\n",
    "        for i in range(len(model_names)):\n",
    "            for j in range(i+1, len(model_names)):\n",
    "                model1, model2 = model_names[i], model_names[j]\n",
    "                recs1 = model_predictions[model1][user_id]\n",
    "                recs2 = model_predictions[model2][user_id]\n",
    "                similarity = calculate_jaccard_similarity(recs1, recs2)\n",
    "                similarities.append(similarity)\n",
    "        \n",
    "        # Tính trung bình độ tương đồng cho người dùng này\n",
    "        avg_similarity = np.mean(similarities)\n",
    "        user_similarities[user_id] = avg_similarity\n",
    "    \n",
    "    return user_similarities\n",
    "\n",
    "def get_extreme_cases(user_similarities, threshold_high=0.5, threshold_low=0.15 ):\n",
    "    \"\"\"\n",
    "    Lấy ra các trường hợp có độ đồng thuận cao và thấp\n",
    "    \"\"\"\n",
    "    high_agreement = {k: v for k, v in user_similarities.items() if v >= threshold_high}\n",
    "    low_agreement = {k: v for k, v in user_similarities.items() if v <= threshold_low}\n",
    "    \n",
    "    return high_agreement, low_agreement\n",
    "\n",
    "def analyze_recommendations():\n",
    "    # Định nghĩa đường dẫn đến các file\n",
    "    file_paths = {\n",
    "        'RecVAE': \"runs/private-test-attempt-1/RecVAE_0581.csv\",\n",
    "        'ALS': \"runs/private-test-attempt-1/predict_ALS.csv\",\n",
    "        'LightGCN': \"runs/private-test-attempt-1/LightGCN_predict.csv\",\n",
    "        'SAR': \"runs/private-test-attempt-1/SAR_std_data.csv\",\n",
    "        'XSimGCL': \"submission/predict_ensemble_XSim_multiview.csv\"\n",
    "    }\n",
    "    \n",
    "    # Đọc và xử lý dữ liệu\n",
    "    model_predictions = load_and_process_recommendations(file_paths)\n",
    "    \n",
    "    # Phân tích độ đồng thuận\n",
    "    user_similarities = analyze_model_agreement(model_predictions)\n",
    "    \n",
    "    # Lấy ra các trường hợp đặc biệt\n",
    "    high_agreement, low_agreement = get_extreme_cases(user_similarities)\n",
    "    \n",
    "    # In kết quả phân tích\n",
    "    print(f\"Tổng số người dùng: {len(user_similarities)}\")\n",
    "    print(f\"Số người dùng có độ đồng thuận cao: {len(high_agreement)}\")\n",
    "    print(f\"Số người dùng có độ đồng thuận thấp: {len(low_agreement)}\")\n",
    "    \n",
    "    # In ra một vài ví dụ\n",
    "    print(\"\\nVí dụ về người dùng có độ đồng thuận cao:\")\n",
    "    for user_id, similarity in list(high_agreement.items())[:5]:\n",
    "        print(f\"User {user_id}: {similarity:.3f}\")\n",
    "        \n",
    "    print(\"\\nVí dụ về người dùng có độ đồng thuận thấp:\")\n",
    "    for user_id, similarity in list(low_agreement.items())[:5]:\n",
    "        print(f\"User {user_id}: {similarity:.3f}\")\n",
    "        \n",
    "    return high_agreement, low_agreement, user_similarities\n",
    "\n",
    "# Chạy phân tích\n",
    "high_agreement, low_agreement, user_similarities = analyze_recommendations()"
   ]
  },
  {
   "cell_type": "code",
   "execution_count": 9,
   "id": "bff83fef-b8d6-40d1-8b6a-d0f39bcc530d",
   "metadata": {},
   "outputs": [],
   "source": [
    "df = pd.read_csv(\"runs/private-test-attempt-1/predict_ensemble_7file.csv\", header=None)"
   ]
  },
  {
   "cell_type": "code",
   "execution_count": 10,
   "id": "91651ab0-8b14-4989-aa8c-cee406e0537d",
   "metadata": {},
   "outputs": [
    {
     "data": {
      "text/plain": [
       "790"
      ]
     },
     "execution_count": 10,
     "metadata": {},
     "output_type": "execute_result"
    }
   ],
   "source": [
    "cnt = 0\n",
    "full_rec = []\n",
    "for i, c in zip(df.values, cl4rec.values):\n",
    "    userid = i[0]\n",
    "    try: \n",
    "        low_agreement[userid]\n",
    "        rec_list = [0 for _ in range(1000)]\n",
    "        cnt += 1\n",
    "        # rec_list = c[1:1001]\n",
    "    except:\n",
    "        rec_list = i[1:1001]\n",
    "\n",
    "    full_rec.append([userid, *rec_list])\n",
    "\n",
    "cnt"
   ]
  },
  {
   "cell_type": "code",
   "execution_count": 11,
   "id": "dd06cf84-5c7f-46e5-865a-0c9897144dea",
   "metadata": {},
   "outputs": [
    {
     "name": "stdout",
     "output_type": "stream",
     "text": [
      "/workspace/viettel-ai-challenge-track-ds\n"
     ]
    }
   ],
   "source": [
    "!pwd"
   ]
  },
  {
   "cell_type": "code",
   "execution_count": 12,
   "id": "a4ebaf0b-5564-4996-a9de-cdf002e13c9b",
   "metadata": {},
   "outputs": [],
   "source": [
    "low_agreement_user = low_agreement.keys()\n",
    "\n",
    "with open(\"data/low_agreement_user.txt\", \"w\") as f:\n",
    "    for key in low_agreement_user:\n",
    "        f.write(key + \"\\n\")\n"
   ]
  },
  {
   "cell_type": "code",
   "execution_count": 302,
   "id": "b8c4fbad-32d7-497f-94f4-4a1e447863f4",
   "metadata": {},
   "outputs": [],
   "source": [
    "low_purchase_user = low_user.groupby(\"UserId\")[\"Purchase\"].sum().where(lambda x : x >= 1).dropna().reset_index()[\"UserId\"].unique()"
   ]
  },
  {
   "cell_type": "code",
   "execution_count": 372,
   "id": "181039c1-e4fc-4b20-a1ac-dc189ee980ae",
   "metadata": {},
   "outputs": [
    {
     "data": {
      "text/plain": [
       "634"
      ]
     },
     "execution_count": 372,
     "metadata": {},
     "output_type": "execute_result"
    }
   ],
   "source": [
    "len(low_purchase_user)"
   ]
  },
  {
   "cell_type": "code",
   "execution_count": 304,
   "id": "2e1e9b16-3e67-4683-9721-ac1c2039ff94",
   "metadata": {},
   "outputs": [],
   "source": [
    "short_term_user = low_user.groupby(\"UserId\")[\"Click\"].sum().where(lambda x : x <= 15).dropna().reset_index()[\"UserId\"].unique()"
   ]
  },
  {
   "cell_type": "code",
   "execution_count": 30,
   "id": "6a273657-132b-40de-9304-b7aa9bfba8d5",
   "metadata": {},
   "outputs": [],
   "source": [
    "test = pd.read_csv('data/public_testset.csv', names=['user_id'] + [f'item_id_{i}' for i in range(1,1001)])"
   ]
  },
  {
   "cell_type": "code",
   "execution_count": 32,
   "id": "af3e41f2-7508-4c7c-b1ac-30ed83387ad2",
   "metadata": {},
   "outputs": [],
   "source": [
    "user_df = test.copy()\n",
    "user_df = user_df.set_index('user_id')"
   ]
  },
  {
   "cell_type": "code",
   "execution_count": 34,
   "id": "794d975a-a59a-42e6-aa58-24c06aef77d7",
   "metadata": {},
   "outputs": [],
   "source": [
    "train = pd.read_csv(\"data/training_set.csv\")\n",
    "# test = pd.read_csv(\"data/public_testset.csv\")\n",
    "list_all_train_item = train[\"ItemId\"].unique()\n",
    "item_columns = [f'item_id_{i+1}' for i in range(1000)] \n",
    "items_df = test[item_columns]\n",
    "all_test_items = items_df.values.flatten()\n",
    "all_test_items = set(all_test_items)\n",
    "old_items = set(all_test_items).intersection(set(list_all_train_item))\n",
    "new_items = all_test_items - old_items"
   ]
  },
  {
   "cell_type": "code",
   "execution_count": 41,
   "id": "ced3083c-d6fe-4f89-9795-3e1f184f1a4b",
   "metadata": {},
   "outputs": [
    {
     "data": {
      "text/plain": [
       "set()"
      ]
     },
     "execution_count": 41,
     "metadata": {},
     "output_type": "execute_result"
    }
   ],
   "source": [
    "new_items.intersection([])"
   ]
  },
  {
   "cell_type": "code",
   "execution_count": 52,
   "id": "c933bfd0-40aa-4f83-bbf3-869051b0b0bc",
   "metadata": {},
   "outputs": [
    {
     "data": {
      "text/plain": [
       "45"
      ]
     },
     "execution_count": 52,
     "metadata": {},
     "output_type": "execute_result"
    }
   ],
   "source": [
    "full_rec = []\n",
    "cnt = 0\n",
    "for i in df.values:\n",
    "    userid = i[0]\n",
    "    if userid in longtail_user and userid in low_agreement.keys():\n",
    "        new_item_intersection = new_items.intersection(i[1:1001])\n",
    "        if len (new_item_intersection) > 0:\n",
    "            cnt+=1\n",
    "            rec_list = [0 for _ in range(1000)]\n",
    "        else:\n",
    "            rec_list = i[1:1001]\n",
    "\n",
    "    else:\n",
    "        rec_list = i[1:1001]\n",
    "\n",
    "    full_rec.append([userid, *rec_list])\n",
    "\n",
    "cnt"
   ]
  },
  {
   "cell_type": "code",
   "execution_count": 45,
   "id": "623a8517-6c74-4c72-829a-4dabf94d95fe",
   "metadata": {},
   "outputs": [],
   "source": [
    "# full_rec = []\n",
    "# cnt = 0\n",
    "# for i in (df.values):\n",
    "#     userid = i[0]\n",
    "#     if userid in short_term_user and userid in low_agreement.keys(): \n",
    "#         cnt+=1\n",
    "#         rec_list = [0 for _ in range(1000)]\n",
    "#     else:\n",
    "#         rec_list = i[1:1001]\n",
    "\n",
    "#     full_rec.append([userid, *rec_list])\n",
    "\n",
    "# cnt"
   ]
  },
  {
   "cell_type": "code",
   "execution_count": 53,
   "id": "97acd853-a107-41aa-9ea0-05356233b587",
   "metadata": {},
   "outputs": [],
   "source": [
    "pd.DataFrame(full_rec).to_csv(\"submission/predict.csv\", index=False, header=None)"
   ]
  },
  {
   "cell_type": "code",
   "execution_count": 54,
   "id": "dc30e602-fe09-4826-b66d-ea9eaaf92acb",
   "metadata": {},
   "outputs": [
    {
     "name": "stdout",
     "output_type": "stream",
     "text": [
      "updating: predict.csv (deflated 27%)\n"
     ]
    }
   ],
   "source": [
    "!cd submission && zip predict_579_longtail20_new_item23.zip predict.csv"
   ]
  },
  {
   "cell_type": "code",
   "execution_count": 316,
   "id": "626966da-1759-4f68-9e7a-3450441c9331",
   "metadata": {},
   "outputs": [
    {
     "data": {
      "text/html": [
       "<div>\n",
       "<style scoped>\n",
       "    .dataframe tbody tr th:only-of-type {\n",
       "        vertical-align: middle;\n",
       "    }\n",
       "\n",
       "    .dataframe tbody tr th {\n",
       "        vertical-align: top;\n",
       "    }\n",
       "\n",
       "    .dataframe thead th {\n",
       "        text-align: right;\n",
       "    }\n",
       "</style>\n",
       "<table border=\"1\" class=\"dataframe\">\n",
       "  <thead>\n",
       "    <tr style=\"text-align: right;\">\n",
       "      <th></th>\n",
       "      <th>0</th>\n",
       "      <th>1</th>\n",
       "      <th>2</th>\n",
       "      <th>3</th>\n",
       "      <th>4</th>\n",
       "      <th>5</th>\n",
       "      <th>6</th>\n",
       "      <th>7</th>\n",
       "      <th>8</th>\n",
       "      <th>9</th>\n",
       "      <th>...</th>\n",
       "      <th>991</th>\n",
       "      <th>992</th>\n",
       "      <th>993</th>\n",
       "      <th>994</th>\n",
       "      <th>995</th>\n",
       "      <th>996</th>\n",
       "      <th>997</th>\n",
       "      <th>998</th>\n",
       "      <th>999</th>\n",
       "      <th>1000</th>\n",
       "    </tr>\n",
       "  </thead>\n",
       "  <tbody>\n",
       "    <tr>\n",
       "      <th>0</th>\n",
       "      <td>NcVPv81tzp</td>\n",
       "      <td>mwOc6vrVPi</td>\n",
       "      <td>oNn8dJXhM8</td>\n",
       "      <td>NZ6ZRExaU5</td>\n",
       "      <td>3tljNC7rIT</td>\n",
       "      <td>av2irHMO5f</td>\n",
       "      <td>IzLVUKs7uQ</td>\n",
       "      <td>wvulby9Vbm</td>\n",
       "      <td>o9yXO6Ak9I</td>\n",
       "      <td>q4bgY20S3L</td>\n",
       "      <td>...</td>\n",
       "      <td>wuxyl7VhE9</td>\n",
       "      <td>3AogAjK3kY</td>\n",
       "      <td>vy9wUsasAg</td>\n",
       "      <td>38YRAfjTC4</td>\n",
       "      <td>brGYGGFX4e</td>\n",
       "      <td>ZAsaiLlrZq</td>\n",
       "      <td>zjiExpN9uw</td>\n",
       "      <td>CthVhk4IIv</td>\n",
       "      <td>cFfT0AEdOb</td>\n",
       "      <td>FqyjUN4Rhl</td>\n",
       "    </tr>\n",
       "    <tr>\n",
       "      <th>1</th>\n",
       "      <td>C5ihgxLcrb</td>\n",
       "      <td>6jy1DwPo7L</td>\n",
       "      <td>u0KbwAhFgw</td>\n",
       "      <td>pUUgxbyvTC</td>\n",
       "      <td>41uJKXzbXd</td>\n",
       "      <td>f1dROAFg11</td>\n",
       "      <td>7NudKUsc5y</td>\n",
       "      <td>WjZUWFn3s9</td>\n",
       "      <td>kk3smPWhZf</td>\n",
       "      <td>O5nMvWF9dA</td>\n",
       "      <td>...</td>\n",
       "      <td>kp3MxtQ2Bj</td>\n",
       "      <td>B3oqKT10l0</td>\n",
       "      <td>qOg25LQeVV</td>\n",
       "      <td>vf96p77kez</td>\n",
       "      <td>bAtq3ygsLw</td>\n",
       "      <td>061nstrHvn</td>\n",
       "      <td>e404cyyJnR</td>\n",
       "      <td>UZLFYQnmym</td>\n",
       "      <td>d7MfqB64c3</td>\n",
       "      <td>huMnOiuSv1</td>\n",
       "    </tr>\n",
       "    <tr>\n",
       "      <th>2</th>\n",
       "      <td>ljMBWT9UXW</td>\n",
       "      <td>0</td>\n",
       "      <td>0</td>\n",
       "      <td>0</td>\n",
       "      <td>0</td>\n",
       "      <td>0</td>\n",
       "      <td>0</td>\n",
       "      <td>0</td>\n",
       "      <td>0</td>\n",
       "      <td>0</td>\n",
       "      <td>...</td>\n",
       "      <td>0</td>\n",
       "      <td>0</td>\n",
       "      <td>0</td>\n",
       "      <td>0</td>\n",
       "      <td>0</td>\n",
       "      <td>0</td>\n",
       "      <td>0</td>\n",
       "      <td>0</td>\n",
       "      <td>0</td>\n",
       "      <td>0</td>\n",
       "    </tr>\n",
       "    <tr>\n",
       "      <th>3</th>\n",
       "      <td>WZXCQtOWJt</td>\n",
       "      <td>xbfyEc4bwt</td>\n",
       "      <td>dQoIYlX2wJ</td>\n",
       "      <td>V6S3fAvyI9</td>\n",
       "      <td>0CpYs5b1cE</td>\n",
       "      <td>SzPkpQ35GK</td>\n",
       "      <td>yDU5yTDtxq</td>\n",
       "      <td>rGAG9phqUn</td>\n",
       "      <td>joDpuUf5SE</td>\n",
       "      <td>10MawcxCHm</td>\n",
       "      <td>...</td>\n",
       "      <td>TUOyX6Edy4</td>\n",
       "      <td>d69h3eVoNt</td>\n",
       "      <td>p5obG12NGj</td>\n",
       "      <td>wA2r6w1Z3F</td>\n",
       "      <td>AUMgblChwY</td>\n",
       "      <td>DUzL3jV5WR</td>\n",
       "      <td>kKfwgMRbeU</td>\n",
       "      <td>h8CYmT2joP</td>\n",
       "      <td>mAfEd2XxBR</td>\n",
       "      <td>4pYokzc1Ph</td>\n",
       "    </tr>\n",
       "    <tr>\n",
       "      <th>4</th>\n",
       "      <td>xlB2rvpQKu</td>\n",
       "      <td>0</td>\n",
       "      <td>0</td>\n",
       "      <td>0</td>\n",
       "      <td>0</td>\n",
       "      <td>0</td>\n",
       "      <td>0</td>\n",
       "      <td>0</td>\n",
       "      <td>0</td>\n",
       "      <td>0</td>\n",
       "      <td>...</td>\n",
       "      <td>0</td>\n",
       "      <td>0</td>\n",
       "      <td>0</td>\n",
       "      <td>0</td>\n",
       "      <td>0</td>\n",
       "      <td>0</td>\n",
       "      <td>0</td>\n",
       "      <td>0</td>\n",
       "      <td>0</td>\n",
       "      <td>0</td>\n",
       "    </tr>\n",
       "    <tr>\n",
       "      <th>...</th>\n",
       "      <td>...</td>\n",
       "      <td>...</td>\n",
       "      <td>...</td>\n",
       "      <td>...</td>\n",
       "      <td>...</td>\n",
       "      <td>...</td>\n",
       "      <td>...</td>\n",
       "      <td>...</td>\n",
       "      <td>...</td>\n",
       "      <td>...</td>\n",
       "      <td>...</td>\n",
       "      <td>...</td>\n",
       "      <td>...</td>\n",
       "      <td>...</td>\n",
       "      <td>...</td>\n",
       "      <td>...</td>\n",
       "      <td>...</td>\n",
       "      <td>...</td>\n",
       "      <td>...</td>\n",
       "      <td>...</td>\n",
       "      <td>...</td>\n",
       "    </tr>\n",
       "    <tr>\n",
       "      <th>2812</th>\n",
       "      <td>51ANpugrpL</td>\n",
       "      <td>S4xaXwp7iP</td>\n",
       "      <td>bGMCLeABTX</td>\n",
       "      <td>xXY4iqSs37</td>\n",
       "      <td>9lTet1LDLe</td>\n",
       "      <td>wKxM43YVzt</td>\n",
       "      <td>TnqcEffbIJ</td>\n",
       "      <td>tGaEpRTh2s</td>\n",
       "      <td>iiLeV3DSP7</td>\n",
       "      <td>2zvu6ViuVZ</td>\n",
       "      <td>...</td>\n",
       "      <td>ZBdjT3PHzS</td>\n",
       "      <td>WaDzrvuPRb</td>\n",
       "      <td>7HO3tf28K1</td>\n",
       "      <td>3MkfN5HPet</td>\n",
       "      <td>R8W5S80njP</td>\n",
       "      <td>olP0Ak73wG</td>\n",
       "      <td>qOJUEIOsG6</td>\n",
       "      <td>uGpFICb6Nn</td>\n",
       "      <td>87zXiaBAvS</td>\n",
       "      <td>5O28cEDfvg</td>\n",
       "    </tr>\n",
       "    <tr>\n",
       "      <th>2813</th>\n",
       "      <td>PpBVsb2nMx</td>\n",
       "      <td>EYbGS5M7z4</td>\n",
       "      <td>pAqFb3i2ZL</td>\n",
       "      <td>1RI5B7JsfJ</td>\n",
       "      <td>HLFzBYKhhQ</td>\n",
       "      <td>ZpBhcOh6i5</td>\n",
       "      <td>VldjdED29h</td>\n",
       "      <td>Mrc8cAik5O</td>\n",
       "      <td>JA1LqZSMx0</td>\n",
       "      <td>H0AfknTqI1</td>\n",
       "      <td>...</td>\n",
       "      <td>gZuszMRTES</td>\n",
       "      <td>I3KoXH07rw</td>\n",
       "      <td>76DOysXkVr</td>\n",
       "      <td>qbTVHZab5Z</td>\n",
       "      <td>bcHDOfcXF0</td>\n",
       "      <td>yxt3NhA033</td>\n",
       "      <td>Si5wCvYVCs</td>\n",
       "      <td>qVcX7ETfmm</td>\n",
       "      <td>pc85TVkpUx</td>\n",
       "      <td>odr1y83ZBE</td>\n",
       "    </tr>\n",
       "    <tr>\n",
       "      <th>2814</th>\n",
       "      <td>EkulSxnt42</td>\n",
       "      <td>0</td>\n",
       "      <td>0</td>\n",
       "      <td>0</td>\n",
       "      <td>0</td>\n",
       "      <td>0</td>\n",
       "      <td>0</td>\n",
       "      <td>0</td>\n",
       "      <td>0</td>\n",
       "      <td>0</td>\n",
       "      <td>...</td>\n",
       "      <td>0</td>\n",
       "      <td>0</td>\n",
       "      <td>0</td>\n",
       "      <td>0</td>\n",
       "      <td>0</td>\n",
       "      <td>0</td>\n",
       "      <td>0</td>\n",
       "      <td>0</td>\n",
       "      <td>0</td>\n",
       "      <td>0</td>\n",
       "    </tr>\n",
       "    <tr>\n",
       "      <th>2815</th>\n",
       "      <td>eflbPkaBp9</td>\n",
       "      <td>QgcWlvxmht</td>\n",
       "      <td>QFwCT7ZYBs</td>\n",
       "      <td>LjtJh1Fyiy</td>\n",
       "      <td>Kg4f6NDLIi</td>\n",
       "      <td>lTthJz1zWD</td>\n",
       "      <td>loVD6FyD34</td>\n",
       "      <td>kNEK8EM56h</td>\n",
       "      <td>NECs6b672k</td>\n",
       "      <td>fVnwN1GPIu</td>\n",
       "      <td>...</td>\n",
       "      <td>xoDRbh3QJz</td>\n",
       "      <td>jb8LikQQZF</td>\n",
       "      <td>95fHCmeGPx</td>\n",
       "      <td>hI539tdri5</td>\n",
       "      <td>uN9CftRDCh</td>\n",
       "      <td>i89OirGsEp</td>\n",
       "      <td>wRmRleu7zR</td>\n",
       "      <td>g9TW5kbI1a</td>\n",
       "      <td>17luc0vqPa</td>\n",
       "      <td>oFhv4bnyWp</td>\n",
       "    </tr>\n",
       "    <tr>\n",
       "      <th>2816</th>\n",
       "      <td>xMxelqaVMC</td>\n",
       "      <td>7czWfJOUu4</td>\n",
       "      <td>oYDmwKZ8UR</td>\n",
       "      <td>DBgSyXJBoz</td>\n",
       "      <td>SIW0pTEb2j</td>\n",
       "      <td>QoRYNyk3eg</td>\n",
       "      <td>DFhmb9OynU</td>\n",
       "      <td>bvSWz1Ki0B</td>\n",
       "      <td>7frIF1dcr8</td>\n",
       "      <td>ODRlRQ22ev</td>\n",
       "      <td>...</td>\n",
       "      <td>LespVXKe5u</td>\n",
       "      <td>SnF0TvsMoB</td>\n",
       "      <td>oyCTLyH0WK</td>\n",
       "      <td>VC9QkzbOdi</td>\n",
       "      <td>HFSECMax0y</td>\n",
       "      <td>9BArebUlBu</td>\n",
       "      <td>W23AEQotAD</td>\n",
       "      <td>mAKqvWHVcb</td>\n",
       "      <td>SHcSFKVLLE</td>\n",
       "      <td>18JG72mXDa</td>\n",
       "    </tr>\n",
       "  </tbody>\n",
       "</table>\n",
       "<p>2817 rows × 1001 columns</p>\n",
       "</div>"
      ],
      "text/plain": [
       "            0           1           2           3           4           5     \\\n",
       "0     NcVPv81tzp  mwOc6vrVPi  oNn8dJXhM8  NZ6ZRExaU5  3tljNC7rIT  av2irHMO5f   \n",
       "1     C5ihgxLcrb  6jy1DwPo7L  u0KbwAhFgw  pUUgxbyvTC  41uJKXzbXd  f1dROAFg11   \n",
       "2     ljMBWT9UXW           0           0           0           0           0   \n",
       "3     WZXCQtOWJt  xbfyEc4bwt  dQoIYlX2wJ  V6S3fAvyI9  0CpYs5b1cE  SzPkpQ35GK   \n",
       "4     xlB2rvpQKu           0           0           0           0           0   \n",
       "...          ...         ...         ...         ...         ...         ...   \n",
       "2812  51ANpugrpL  S4xaXwp7iP  bGMCLeABTX  xXY4iqSs37  9lTet1LDLe  wKxM43YVzt   \n",
       "2813  PpBVsb2nMx  EYbGS5M7z4  pAqFb3i2ZL  1RI5B7JsfJ  HLFzBYKhhQ  ZpBhcOh6i5   \n",
       "2814  EkulSxnt42           0           0           0           0           0   \n",
       "2815  eflbPkaBp9  QgcWlvxmht  QFwCT7ZYBs  LjtJh1Fyiy  Kg4f6NDLIi  lTthJz1zWD   \n",
       "2816  xMxelqaVMC  7czWfJOUu4  oYDmwKZ8UR  DBgSyXJBoz  SIW0pTEb2j  QoRYNyk3eg   \n",
       "\n",
       "            6           7           8           9     ...        991   \\\n",
       "0     IzLVUKs7uQ  wvulby9Vbm  o9yXO6Ak9I  q4bgY20S3L  ...  wuxyl7VhE9   \n",
       "1     7NudKUsc5y  WjZUWFn3s9  kk3smPWhZf  O5nMvWF9dA  ...  kp3MxtQ2Bj   \n",
       "2              0           0           0           0  ...           0   \n",
       "3     yDU5yTDtxq  rGAG9phqUn  joDpuUf5SE  10MawcxCHm  ...  TUOyX6Edy4   \n",
       "4              0           0           0           0  ...           0   \n",
       "...          ...         ...         ...         ...  ...         ...   \n",
       "2812  TnqcEffbIJ  tGaEpRTh2s  iiLeV3DSP7  2zvu6ViuVZ  ...  ZBdjT3PHzS   \n",
       "2813  VldjdED29h  Mrc8cAik5O  JA1LqZSMx0  H0AfknTqI1  ...  gZuszMRTES   \n",
       "2814           0           0           0           0  ...           0   \n",
       "2815  loVD6FyD34  kNEK8EM56h  NECs6b672k  fVnwN1GPIu  ...  xoDRbh3QJz   \n",
       "2816  DFhmb9OynU  bvSWz1Ki0B  7frIF1dcr8  ODRlRQ22ev  ...  LespVXKe5u   \n",
       "\n",
       "            992         993         994         995         996         997   \\\n",
       "0     3AogAjK3kY  vy9wUsasAg  38YRAfjTC4  brGYGGFX4e  ZAsaiLlrZq  zjiExpN9uw   \n",
       "1     B3oqKT10l0  qOg25LQeVV  vf96p77kez  bAtq3ygsLw  061nstrHvn  e404cyyJnR   \n",
       "2              0           0           0           0           0           0   \n",
       "3     d69h3eVoNt  p5obG12NGj  wA2r6w1Z3F  AUMgblChwY  DUzL3jV5WR  kKfwgMRbeU   \n",
       "4              0           0           0           0           0           0   \n",
       "...          ...         ...         ...         ...         ...         ...   \n",
       "2812  WaDzrvuPRb  7HO3tf28K1  3MkfN5HPet  R8W5S80njP  olP0Ak73wG  qOJUEIOsG6   \n",
       "2813  I3KoXH07rw  76DOysXkVr  qbTVHZab5Z  bcHDOfcXF0  yxt3NhA033  Si5wCvYVCs   \n",
       "2814           0           0           0           0           0           0   \n",
       "2815  jb8LikQQZF  95fHCmeGPx  hI539tdri5  uN9CftRDCh  i89OirGsEp  wRmRleu7zR   \n",
       "2816  SnF0TvsMoB  oyCTLyH0WK  VC9QkzbOdi  HFSECMax0y  9BArebUlBu  W23AEQotAD   \n",
       "\n",
       "            998         999         1000  \n",
       "0     CthVhk4IIv  cFfT0AEdOb  FqyjUN4Rhl  \n",
       "1     UZLFYQnmym  d7MfqB64c3  huMnOiuSv1  \n",
       "2              0           0           0  \n",
       "3     h8CYmT2joP  mAfEd2XxBR  4pYokzc1Ph  \n",
       "4              0           0           0  \n",
       "...          ...         ...         ...  \n",
       "2812  uGpFICb6Nn  87zXiaBAvS  5O28cEDfvg  \n",
       "2813  qVcX7ETfmm  pc85TVkpUx  odr1y83ZBE  \n",
       "2814           0           0           0  \n",
       "2815  g9TW5kbI1a  17luc0vqPa  oFhv4bnyWp  \n",
       "2816  mAKqvWHVcb  SHcSFKVLLE  18JG72mXDa  \n",
       "\n",
       "[2817 rows x 1001 columns]"
      ]
     },
     "execution_count": 316,
     "metadata": {},
     "output_type": "execute_result"
    }
   ],
   "source": [
    "pd.DataFrame(full_rec)"
   ]
  },
  {
   "cell_type": "code",
   "execution_count": 10,
   "id": "9356191c-ce42-4b45-b3b8-c69def052b48",
   "metadata": {},
   "outputs": [],
   "source": [
    "train = pd.read_csv(\"data/training_set.csv\")"
   ]
  },
  {
   "cell_type": "code",
   "execution_count": 11,
   "id": "35f7a45b-deea-4662-ad80-4ecc8d467327",
   "metadata": {},
   "outputs": [],
   "source": [
    "low_user = train[train[\"UserId\"].isin(low_agreement.keys())]\n",
    "high_user = train[train[\"UserId\"].isin(high_agreement.keys())]"
   ]
  },
  {
   "cell_type": "code",
   "execution_count": 51,
   "id": "561fb3d2-33a9-49d2-ae3c-f0f243bf68de",
   "metadata": {},
   "outputs": [
    {
     "data": {
      "text/plain": [
       "588"
      ]
     },
     "execution_count": 51,
     "metadata": {},
     "output_type": "execute_result"
    }
   ],
   "source": [
    "longtail_user = train.groupby(\"UserId\")[\"Click\"].sum().where(lambda x : x > 40).dropna()\n",
    "longtail_user = longtail_user.reset_index()[\"UserId\"].unique()\n",
    "len(longtail_user)"
   ]
  },
  {
   "cell_type": "code",
   "execution_count": 326,
   "id": "f97e1a09-402f-4d3c-a5db-2aa3a364288b",
   "metadata": {},
   "outputs": [
    {
     "data": {
      "text/plain": [
       "count    36751.000000\n",
       "mean        10.609861\n",
       "std         39.119152\n",
       "min          4.000000\n",
       "25%          5.000000\n",
       "50%          6.000000\n",
       "75%          9.000000\n",
       "max       3284.000000\n",
       "Name: Click, dtype: float64"
      ]
     },
     "execution_count": 326,
     "metadata": {},
     "output_type": "execute_result"
    }
   ],
   "source": [
    "train.groupby(\"UserId\")[\"Click\"].sum().describe()"
   ]
  },
  {
   "cell_type": "code",
   "execution_count": 358,
   "id": "12720e3a-c496-4684-a9b1-fff91c32ce2c",
   "metadata": {},
   "outputs": [
    {
     "data": {
      "text/plain": [
       "count    83102.000000\n",
       "mean         4.692101\n",
       "std          8.814933\n",
       "min          1.000000\n",
       "25%          1.000000\n",
       "50%          2.000000\n",
       "75%          5.000000\n",
       "max        318.000000\n",
       "Name: Click, dtype: float64"
      ]
     },
     "execution_count": 358,
     "metadata": {},
     "output_type": "execute_result"
    }
   ],
   "source": [
    "train.groupby(\"ItemId\")[\"Click\"].sum().describe()"
   ]
  },
  {
   "cell_type": "code",
   "execution_count": 370,
   "id": "44aea606-6ac0-4dfc-865e-331288a8090b",
   "metadata": {},
   "outputs": [
    {
     "data": {
      "text/html": [
       "<div>\n",
       "<style scoped>\n",
       "    .dataframe tbody tr th:only-of-type {\n",
       "        vertical-align: middle;\n",
       "    }\n",
       "\n",
       "    .dataframe tbody tr th {\n",
       "        vertical-align: top;\n",
       "    }\n",
       "\n",
       "    .dataframe thead th {\n",
       "        text-align: right;\n",
       "    }\n",
       "</style>\n",
       "<table border=\"1\" class=\"dataframe\">\n",
       "  <thead>\n",
       "    <tr style=\"text-align: right;\">\n",
       "      <th></th>\n",
       "      <th>UserId</th>\n",
       "      <th>ItemId</th>\n",
       "      <th>Click</th>\n",
       "      <th>Purchase</th>\n",
       "    </tr>\n",
       "  </thead>\n",
       "  <tbody>\n",
       "    <tr>\n",
       "      <th>1</th>\n",
       "      <td>tyviMi4b8Q</td>\n",
       "      <td>t3fB9Nq1VY</td>\n",
       "      <td>1</td>\n",
       "      <td>0</td>\n",
       "    </tr>\n",
       "    <tr>\n",
       "      <th>12</th>\n",
       "      <td>tyviMi4b8Q</td>\n",
       "      <td>lTYJaTlXyN</td>\n",
       "      <td>1</td>\n",
       "      <td>0</td>\n",
       "    </tr>\n",
       "    <tr>\n",
       "      <th>21</th>\n",
       "      <td>tyviMi4b8Q</td>\n",
       "      <td>zdIsHppepJ</td>\n",
       "      <td>1</td>\n",
       "      <td>0</td>\n",
       "    </tr>\n",
       "    <tr>\n",
       "      <th>28</th>\n",
       "      <td>PGcvoaV6Gn</td>\n",
       "      <td>qwhGdJ5ene</td>\n",
       "      <td>1</td>\n",
       "      <td>0</td>\n",
       "    </tr>\n",
       "    <tr>\n",
       "      <th>36</th>\n",
       "      <td>Sr1MiLP6VX</td>\n",
       "      <td>Sr1MiLP6VX</td>\n",
       "      <td>1</td>\n",
       "      <td>0</td>\n",
       "    </tr>\n",
       "    <tr>\n",
       "      <th>...</th>\n",
       "      <td>...</td>\n",
       "      <td>...</td>\n",
       "      <td>...</td>\n",
       "      <td>...</td>\n",
       "    </tr>\n",
       "    <tr>\n",
       "      <th>389896</th>\n",
       "      <td>PeFgD5uz6C</td>\n",
       "      <td>CBMrbcfqZn</td>\n",
       "      <td>1</td>\n",
       "      <td>0</td>\n",
       "    </tr>\n",
       "    <tr>\n",
       "      <th>389910</th>\n",
       "      <td>yWLJZiFVTI</td>\n",
       "      <td>zRc319plpU</td>\n",
       "      <td>1</td>\n",
       "      <td>0</td>\n",
       "    </tr>\n",
       "    <tr>\n",
       "      <th>389914</th>\n",
       "      <td>Uo2X1ah0bf</td>\n",
       "      <td>hRapAMLApl</td>\n",
       "      <td>1</td>\n",
       "      <td>0</td>\n",
       "    </tr>\n",
       "    <tr>\n",
       "      <th>389916</th>\n",
       "      <td>Uo2X1ah0bf</td>\n",
       "      <td>56em7Cl1uk</td>\n",
       "      <td>1</td>\n",
       "      <td>0</td>\n",
       "    </tr>\n",
       "    <tr>\n",
       "      <th>389921</th>\n",
       "      <td>16jkTS9Vj2</td>\n",
       "      <td>h9tLDUYcw6</td>\n",
       "      <td>1</td>\n",
       "      <td>0</td>\n",
       "    </tr>\n",
       "  </tbody>\n",
       "</table>\n",
       "<p>71178 rows × 4 columns</p>\n",
       "</div>"
      ],
      "text/plain": [
       "            UserId      ItemId  Click  Purchase\n",
       "1       tyviMi4b8Q  t3fB9Nq1VY      1         0\n",
       "12      tyviMi4b8Q  lTYJaTlXyN      1         0\n",
       "21      tyviMi4b8Q  zdIsHppepJ      1         0\n",
       "28      PGcvoaV6Gn  qwhGdJ5ene      1         0\n",
       "36      Sr1MiLP6VX  Sr1MiLP6VX      1         0\n",
       "...            ...         ...    ...       ...\n",
       "389896  PeFgD5uz6C  CBMrbcfqZn      1         0\n",
       "389910  yWLJZiFVTI  zRc319plpU      1         0\n",
       "389914  Uo2X1ah0bf  hRapAMLApl      1         0\n",
       "389916  Uo2X1ah0bf  56em7Cl1uk      1         0\n",
       "389921  16jkTS9Vj2  h9tLDUYcw6      1         0\n",
       "\n",
       "[71178 rows x 4 columns]"
      ]
     },
     "execution_count": 370,
     "metadata": {},
     "output_type": "execute_result"
    }
   ],
   "source": [
    "train[train[\"ItemId\"].isin(high_user[\"ItemId\"].unique())]"
   ]
  },
  {
   "cell_type": "code",
   "execution_count": 371,
   "id": "244097dc-af8d-420d-a7b7-39f0f49c4813",
   "metadata": {},
   "outputs": [
    {
     "data": {
      "text/plain": [
       "ItemId\n",
       "004POG3wLH    29\n",
       "03qlefZg2e    11\n",
       "06RPMFPiAy     9\n",
       "07L6UFyWU3     8\n",
       "07Tgy5RFQJ     1\n",
       "              ..\n",
       "zwvJdO5XjB    13\n",
       "zxAOTuumc7    21\n",
       "zySZ2Ho2Xb    42\n",
       "zyrAuwQgjo    10\n",
       "zzyfHckCgU    51\n",
       "Name: Click, Length: 3132, dtype: int64"
      ]
     },
     "execution_count": 371,
     "metadata": {},
     "output_type": "execute_result"
    }
   ],
   "source": [
    "train[train[\"ItemId\"].isin(low_user[\"ItemId\"].unique())].groupby(\"ItemId\")[\"Click\"].sum()"
   ]
  },
  {
   "cell_type": "code",
   "execution_count": 367,
   "id": "b2531a1d-0a47-40bf-980f-c281fa8898a3",
   "metadata": {},
   "outputs": [
    {
     "data": {
      "text/html": [
       "<div>\n",
       "<style scoped>\n",
       "    .dataframe tbody tr th:only-of-type {\n",
       "        vertical-align: middle;\n",
       "    }\n",
       "\n",
       "    .dataframe tbody tr th {\n",
       "        vertical-align: top;\n",
       "    }\n",
       "\n",
       "    .dataframe thead th {\n",
       "        text-align: right;\n",
       "    }\n",
       "</style>\n",
       "<table border=\"1\" class=\"dataframe\">\n",
       "  <thead>\n",
       "    <tr style=\"text-align: right;\">\n",
       "      <th></th>\n",
       "      <th>UserId</th>\n",
       "      <th>ItemId</th>\n",
       "      <th>Click</th>\n",
       "      <th>Purchase</th>\n",
       "    </tr>\n",
       "  </thead>\n",
       "  <tbody>\n",
       "    <tr>\n",
       "      <th>1400</th>\n",
       "      <td>Ymt7uwVeqU</td>\n",
       "      <td>j7UpWv5fqR</td>\n",
       "      <td>1</td>\n",
       "      <td>0</td>\n",
       "    </tr>\n",
       "    <tr>\n",
       "      <th>1401</th>\n",
       "      <td>Ymt7uwVeqU</td>\n",
       "      <td>CkX0wVME9I</td>\n",
       "      <td>1</td>\n",
       "      <td>0</td>\n",
       "    </tr>\n",
       "    <tr>\n",
       "      <th>1402</th>\n",
       "      <td>Ymt7uwVeqU</td>\n",
       "      <td>SpWGTzTwNe</td>\n",
       "      <td>1</td>\n",
       "      <td>0</td>\n",
       "    </tr>\n",
       "    <tr>\n",
       "      <th>1403</th>\n",
       "      <td>Ymt7uwVeqU</td>\n",
       "      <td>ASJ5HVYIM6</td>\n",
       "      <td>1</td>\n",
       "      <td>0</td>\n",
       "    </tr>\n",
       "    <tr>\n",
       "      <th>1404</th>\n",
       "      <td>Ymt7uwVeqU</td>\n",
       "      <td>CG7VYoDbcT</td>\n",
       "      <td>1</td>\n",
       "      <td>0</td>\n",
       "    </tr>\n",
       "    <tr>\n",
       "      <th>...</th>\n",
       "      <td>...</td>\n",
       "      <td>...</td>\n",
       "      <td>...</td>\n",
       "      <td>...</td>\n",
       "    </tr>\n",
       "    <tr>\n",
       "      <th>385869</th>\n",
       "      <td>y0lpxPO808</td>\n",
       "      <td>NI8zyOsvLu</td>\n",
       "      <td>1</td>\n",
       "      <td>0</td>\n",
       "    </tr>\n",
       "    <tr>\n",
       "      <th>385870</th>\n",
       "      <td>y0lpxPO808</td>\n",
       "      <td>DLjXPUKphu</td>\n",
       "      <td>1</td>\n",
       "      <td>0</td>\n",
       "    </tr>\n",
       "    <tr>\n",
       "      <th>385871</th>\n",
       "      <td>y0lpxPO808</td>\n",
       "      <td>mCmj0isT77</td>\n",
       "      <td>1</td>\n",
       "      <td>1</td>\n",
       "    </tr>\n",
       "    <tr>\n",
       "      <th>385872</th>\n",
       "      <td>y0lpxPO808</td>\n",
       "      <td>8FyKx0DUV2</td>\n",
       "      <td>1</td>\n",
       "      <td>1</td>\n",
       "    </tr>\n",
       "    <tr>\n",
       "      <th>385873</th>\n",
       "      <td>y0lpxPO808</td>\n",
       "      <td>ovLX8TErpi</td>\n",
       "      <td>1</td>\n",
       "      <td>1</td>\n",
       "    </tr>\n",
       "  </tbody>\n",
       "</table>\n",
       "<p>25817 rows × 4 columns</p>\n",
       "</div>"
      ],
      "text/plain": [
       "            UserId      ItemId  Click  Purchase\n",
       "1400    Ymt7uwVeqU  j7UpWv5fqR      1         0\n",
       "1401    Ymt7uwVeqU  CkX0wVME9I      1         0\n",
       "1402    Ymt7uwVeqU  SpWGTzTwNe      1         0\n",
       "1403    Ymt7uwVeqU  ASJ5HVYIM6      1         0\n",
       "1404    Ymt7uwVeqU  CG7VYoDbcT      1         0\n",
       "...            ...         ...    ...       ...\n",
       "385869  y0lpxPO808  NI8zyOsvLu      1         0\n",
       "385870  y0lpxPO808  DLjXPUKphu      1         0\n",
       "385871  y0lpxPO808  mCmj0isT77      1         1\n",
       "385872  y0lpxPO808  8FyKx0DUV2      1         1\n",
       "385873  y0lpxPO808  ovLX8TErpi      1         1\n",
       "\n",
       "[25817 rows x 4 columns]"
      ]
     },
     "execution_count": 367,
     "metadata": {},
     "output_type": "execute_result"
    }
   ],
   "source": [
    "low_user"
   ]
  },
  {
   "cell_type": "code",
   "execution_count": 355,
   "id": "d9ae65c3-0dc6-4621-95cb-1cfbe9926c51",
   "metadata": {},
   "outputs": [
    {
     "data": {
      "text/plain": [
       "83102"
      ]
     },
     "execution_count": 355,
     "metadata": {},
     "output_type": "execute_result"
    }
   ],
   "source": [
    "len(train[\"ItemId\"].unique())"
   ]
  },
  {
   "cell_type": "code",
   "execution_count": 342,
   "id": "5be5df7a-d6d4-4a3a-bc7f-05ac97998cc7",
   "metadata": {},
   "outputs": [
    {
     "data": {
      "text/plain": [
       "count    15748.000000\n",
       "mean         1.639383\n",
       "std          1.481476\n",
       "min          1.000000\n",
       "25%          1.000000\n",
       "50%          1.000000\n",
       "75%          2.000000\n",
       "max         37.000000\n",
       "Name: Click, dtype: float64"
      ]
     },
     "execution_count": 342,
     "metadata": {},
     "output_type": "execute_result"
    }
   ],
   "source": [
    "low_user.groupby(\"ItemId\")[\"Click\"].sum().describe()"
   ]
  },
  {
   "cell_type": "code",
   "execution_count": 341,
   "id": "1461267f-926b-46b6-a291-20284f84b72c",
   "metadata": {},
   "outputs": [
    {
     "data": {
      "text/plain": [
       "count     579.000000\n",
       "mean       44.588946\n",
       "std       143.838073\n",
       "min         4.000000\n",
       "25%         5.000000\n",
       "50%         8.000000\n",
       "75%        17.000000\n",
       "max      1749.000000\n",
       "Name: Click, dtype: float64"
      ]
     },
     "execution_count": 341,
     "metadata": {},
     "output_type": "execute_result"
    }
   ],
   "source": [
    "low_user.groupby(\"UserId\")[\"Click\"].sum().describe()"
   ]
  },
  {
   "cell_type": "code",
   "execution_count": 328,
   "id": "780bafb1-c133-45ea-86a9-4d110e79093c",
   "metadata": {},
   "outputs": [
    {
     "data": {
      "text/plain": [
       "count    427.000000\n",
       "mean       8.772834\n",
       "std        6.781112\n",
       "min        4.000000\n",
       "25%        5.000000\n",
       "50%        6.000000\n",
       "75%       10.000000\n",
       "max       65.000000\n",
       "Name: Click, dtype: float64"
      ]
     },
     "execution_count": 328,
     "metadata": {},
     "output_type": "execute_result"
    }
   ],
   "source": [
    "high_user.groupby(\"UserId\")[\"Click\"].sum().describe()"
   ]
  },
  {
   "cell_type": "code",
   "execution_count": 329,
   "id": "b173804b-68cd-46cf-9fe4-354b01aae2b9",
   "metadata": {},
   "outputs": [
    {
     "data": {
      "text/plain": [
       "count    36751.000000\n",
       "mean         0.502027\n",
       "std          6.026286\n",
       "min          0.000000\n",
       "25%          0.000000\n",
       "50%          0.000000\n",
       "75%          0.000000\n",
       "max        625.000000\n",
       "Name: Purchase, dtype: float64"
      ]
     },
     "execution_count": 329,
     "metadata": {},
     "output_type": "execute_result"
    }
   ],
   "source": [
    "train.groupby(\"UserId\")[\"Purchase\"].sum().describe()"
   ]
  },
  {
   "cell_type": "code",
   "execution_count": 330,
   "id": "27f6be40-692d-4b58-8e13-6b8771beb404",
   "metadata": {},
   "outputs": [
    {
     "data": {
      "text/plain": [
       "count    280.000000\n",
       "mean       8.860714\n",
       "std       32.150830\n",
       "min        0.000000\n",
       "25%        0.000000\n",
       "50%        1.000000\n",
       "75%        4.000000\n",
       "max      363.000000\n",
       "Name: Purchase, dtype: float64"
      ]
     },
     "execution_count": 330,
     "metadata": {},
     "output_type": "execute_result"
    }
   ],
   "source": [
    "low_user.groupby(\"UserId\")[\"Purchase\"].sum().describe()"
   ]
  },
  {
   "cell_type": "code",
   "execution_count": 331,
   "id": "084b803f-da1a-4ee8-a981-5b4b3825cca4",
   "metadata": {},
   "outputs": [
    {
     "data": {
      "text/plain": [
       "UserId\n",
       "016XSFFwy3     6.0\n",
       "01mJsHlp6k     4.0\n",
       "02C5uT9nyV     8.0\n",
       "02GI5dVzbr    17.0\n",
       "02zHgoN5Lu     1.0\n",
       "              ... \n",
       "zvrvJhy0QH     2.0\n",
       "zw0gw5D425     2.0\n",
       "zxRPsj2hr4     1.0\n",
       "zzReTyUNBb    10.0\n",
       "zzkr2xyT3t     1.0\n",
       "Name: Purchase, Length: 3486, dtype: float64"
      ]
     },
     "execution_count": 331,
     "metadata": {},
     "output_type": "execute_result"
    }
   ],
   "source": [
    "train.groupby(\"UserId\")[\"Purchase\"].sum().where(lambda x : x >= 1).dropna()"
   ]
  },
  {
   "cell_type": "code",
   "execution_count": 246,
   "id": "9afd0a73-268c-45eb-8bbc-b185e859f9a6",
   "metadata": {},
   "outputs": [
    {
     "data": {
      "text/plain": [
       "UserId\n",
       "016XSFFwy3     6.0\n",
       "02GI5dVzbr    17.0\n",
       "06eM9m1yP8     7.0\n",
       "0RM5hrGBcJ    22.0\n",
       "0VPm4UWisk     4.0\n",
       "              ... \n",
       "zaIdgaNzWm     1.0\n",
       "zasreOz0e2     1.0\n",
       "znIu7UJeiR     3.0\n",
       "zpwkzDVsT7     2.0\n",
       "zvrvJhy0QH     2.0\n",
       "Name: Purchase, Length: 634, dtype: float64"
      ]
     },
     "execution_count": 246,
     "metadata": {},
     "output_type": "execute_result"
    }
   ],
   "source": [
    "low_user.groupby(\"UserId\")[\"Purchase\"].sum().where(lambda x : x >= 1).dropna()"
   ]
  },
  {
   "cell_type": "code",
   "execution_count": null,
   "id": "cedd141e-5ef9-4f5a-903c-2f96ef8413ef",
   "metadata": {},
   "outputs": [],
   "source": []
  },
  {
   "cell_type": "code",
   "execution_count": 237,
   "id": "e7de779f-ddbe-4804-85ac-fb6f714169e2",
   "metadata": {},
   "outputs": [
    {
     "data": {
      "text/plain": [
       "count    427.000000\n",
       "mean       0.955504\n",
       "std        1.872807\n",
       "min        0.000000\n",
       "25%        0.000000\n",
       "50%        0.000000\n",
       "75%        1.000000\n",
       "max       13.000000\n",
       "Name: Purchase, dtype: float64"
      ]
     },
     "execution_count": 237,
     "metadata": {},
     "output_type": "execute_result"
    }
   ],
   "source": [
    "high_user.groupby(\"UserId\")[\"Purchase\"].sum().describe()"
   ]
  },
  {
   "cell_type": "code",
   "execution_count": null,
   "id": "be12e42b-345f-4a00-bb47-5cd9d7925580",
   "metadata": {},
   "outputs": [],
   "source": []
  },
  {
   "cell_type": "code",
   "execution_count": 156,
   "id": "57a01620-ee96-494c-a1e8-a1dcb96928c3",
   "metadata": {},
   "outputs": [
    {
     "name": "stdout",
     "output_type": "stream",
     "text": [
      "Length user with purchase 311\n",
      "Length user without purchase 268\n"
     ]
    },
    {
     "name": "stderr",
     "output_type": "stream",
     "text": [
      "/tmp/ipykernel_9971/3946346813.py:1: FutureWarning: The provided callable <built-in function sum> is currently using SeriesGroupBy.sum. In a future version of pandas, the provided callable will be used directly. To keep current behavior pass the string \"sum\" instead.\n",
      "  print(\"Length user with purchase\", len(low_user.groupby(\"UserId\").agg({\"Purchase\": sum}).where(lambda x : x[\"Purchase\"]>=1).dropna()))\n",
      "/tmp/ipykernel_9971/3946346813.py:2: FutureWarning: The provided callable <built-in function sum> is currently using SeriesGroupBy.sum. In a future version of pandas, the provided callable will be used directly. To keep current behavior pass the string \"sum\" instead.\n",
      "  print(\"Length user without purchase\", len(low_user.groupby(\"UserId\").agg({\"Purchase\": sum}).where(lambda x : x[\"Purchase\"]<1).dropna()))\n"
     ]
    }
   ],
   "source": [
    "print(\"Length user with purchase\", len(low_user.groupby(\"UserId\").agg({\"Purchase\": sum}).where(lambda x : x[\"Purchase\"]>=1).dropna()))\n",
    "print(\"Length user without purchase\", len(low_user.groupby(\"UserId\").agg({\"Purchase\": sum}).where(lambda x : x[\"Purchase\"]<1).dropna()))"
   ]
  },
  {
   "cell_type": "code",
   "execution_count": null,
   "id": "ff2f5fc6-303b-4bac-b916-48b55234ce68",
   "metadata": {},
   "outputs": [],
   "source": []
  }
 ],
 "metadata": {
  "kernelspec": {
   "display_name": "Python 3 (ipykernel)",
   "language": "python",
   "name": "python3"
  },
  "language_info": {
   "codemirror_mode": {
    "name": "ipython",
    "version": 3
   },
   "file_extension": ".py",
   "mimetype": "text/x-python",
   "name": "python",
   "nbconvert_exporter": "python",
   "pygments_lexer": "ipython3",
   "version": "3.12.7"
  }
 },
 "nbformat": 4,
 "nbformat_minor": 5
}
